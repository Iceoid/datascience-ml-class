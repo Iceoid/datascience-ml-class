{
  "nbformat": 4,
  "nbformat_minor": 0,
  "metadata": {
    "colab": {
      "name": "TP5.ipynb",
      "provenance": [],
      "collapsed_sections": [],
      "include_colab_link": true
    },
    "kernelspec": {
      "name": "python3",
      "display_name": "Python 3"
    }
  },
  "cells": [
    {
      "cell_type": "markdown",
      "metadata": {
        "id": "view-in-github",
        "colab_type": "text"
      },
      "source": [
        "<a href=\"https://colab.research.google.com/github/Iceoid/datascience-ml-class/blob/main/TP5.ipynb\" target=\"_parent\"><img src=\"https://colab.research.google.com/assets/colab-badge.svg\" alt=\"Open In Colab\"/></a>"
      ]
    },
    {
      "cell_type": "code",
      "metadata": {
        "id": "DNqCKpzXIpfy",
        "colab": {
          "base_uri": "https://localhost:8080/",
          "height": 35
        },
        "outputId": "b319706e-08be-4010-a964-c02da66bd0e6"
      },
      "source": [
        "%pylab inline"
      ],
      "execution_count": null,
      "outputs": [
        {
          "output_type": "stream",
          "text": [
            "Populating the interactive namespace from numpy and matplotlib\n"
          ],
          "name": "stdout"
        }
      ]
    },
    {
      "cell_type": "markdown",
      "metadata": {
        "id": "Z7kPi4PC0rX-"
      },
      "source": [
        "## Random Dataset Generation\n",
        "We will generate random, noisy dataset using a predefined function. This function is a combination of a 2nd degree polynomial with a sine function, plus some noise."
      ]
    },
    {
      "cell_type": "code",
      "metadata": {
        "id": "hgN2uTTIJeba",
        "colab": {
          "base_uri": "https://localhost:8080/",
          "height": 268
        },
        "outputId": "afb699b3-2f28-495d-9318-fae4883124b0"
      },
      "source": [
        "def synthetic_function(x, noise=0):\n",
        "    return (x + (x+2)**2 + np.sin(14*x) + noise * (np.random.random(x.shape) - 0.5)) / 10 - 0.4\n",
        "\n",
        "def get_data_range(min=-0.5, max=0.5, num=1000, noise=0):\n",
        "    X = np.linspace(min, max, num=num).reshape((num, 1))\n",
        "    return X, synthetic_function(X, noise)\n",
        "\n",
        "def get_data_random(min=-0.5, max=0.5, num=100, noise=1):\n",
        "    X = np.random.random(size=(num, 1)) * (max - min) + min\n",
        "    return X, synthetic_function(X, noise)\n",
        "\n",
        "np.random.seed(12)\n",
        "X, Y = get_data_random()\n",
        "Xr, Yr = get_data_range()\n",
        "plt.scatter(X, Y)\n",
        "plt.plot(Xr, Yr)\n",
        "plt.show()"
      ],
      "execution_count": null,
      "outputs": [
        {
          "output_type": "display_data",
          "data": {
            "image/png": "[encoded data removed]",
            "text/plain": [
              "<Figure size 432x288 with 1 Axes>"
            ]
          },
          "metadata": {
            "tags": [],
            "needs_background": "light"
          }
        }
      ]
    },
    {
      "cell_type": "markdown",
      "metadata": {
        "id": "vtLOwsKI0YK3"
      },
      "source": [
        "## Fully Connected Neural Network (MLP)\n",
        "Implement the forward pass (`Dense.forward`) and the backward pass (`Dense.backward`) of a fully connected neural network layer."
      ]
    },
    {
      "cell_type": "code",
      "metadata": {
        "id": "a-hO65jBJfiI"
      },
      "source": [
        "def homogeneous(X):\n",
        "    return np.insert(X, 0, values=1, axis=-1)\n",
        "\n",
        "# Default Layer Class\n",
        "class Layer:\n",
        "    def __init__(self, input_size=None, output_size=None):\n",
        "        self.input_size = input_size\n",
        "        self.output_size = output_size\n",
        "        self.prev = None\n",
        "        self.next = None\n",
        "    def __call__(self, callable_graph):\n",
        "        if isinstance(callable_graph, Layer):\n",
        "            self.prev = callable_graph\n",
        "            self.input_size = callable_graph.output_size\n",
        "            callable_graph.next = self\n",
        "            if self.output_size is None:\n",
        "                self.output_size = self.input_size\n",
        "\n",
        "            return self\n",
        "        return self.predict(callable_graph)\n",
        "    \n",
        "    def predict(self, X):\n",
        "        return self.forward(X) if self.next is None else self.next.predict(self.forward(X))\n",
        "        \n",
        "    def backprop(self, Y):\n",
        "        return self.backward(Y) if self.prev is None else self.prev.backprop(self.backward(Y))\n",
        "        \n",
        "    def str_chain(self):\n",
        "        return str(self) if self.next is None else str(self) + \" -> \" + self.next.str_chain()\n",
        "\n",
        "# Fully Connected Layer Class\n",
        "class Dense(Layer):\n",
        "    def __init__(self, units, input_size=None):\n",
        "        Layer.__init__(self, input_size, units)\n",
        "        self.W = None\n",
        "        \n",
        "    def init_weights(self):\n",
        "        self.W = np.random.normal(0, scale=2/(self.input_size), size=(self.output_size, self.input_size + 1))\n",
        "        \n",
        "    # Forward pass using X\n",
        "    def forward(self, X):\n",
        "        if self.W is None:\n",
        "            self.init_weights()\n",
        "\n",
        "        Xh = homogeneous(X) # Homogeneous coordinates\n",
        "        self.last_input = Xh # Save inputs for backpropagation\n",
        "\n",
        "        #Compute forward pass result\n",
        "        return # ----- TODO -----\n",
        "    \n",
        "    # Backward pass using Y\n",
        "    def backward(self, Y):\n",
        "        #Compute gradient\n",
        "        input_3d = np.swapaxes(np.expand_dims(self.last_input, axis=0), 0, 1)\n",
        "        y_t_3d = np.transpose(np.swapaxes(np.expand_dims(Y, axis=0), 0, 1), (0, 2, 1))\n",
        "        self.grad = np.mean(y_t_3d * input_3d, axis=0)\n",
        "        \n",
        "        #Compute backward pass result, don't forget to remove the bias term! Bias does not need to be backpropagated.\n",
        "        return # ----- TODO -----\n",
        "        \n",
        "    def __str__(self):\n",
        "        return \"Dense(\" + str(self.input_size) + \", \" + str(self.output_size) + \")\"\n",
        "\n",
        "class ReLU(Layer):\n",
        "    def forward(self, X):\n",
        "        self.last_input = X # Save inputs for backpropagation\n",
        "        return np.maximum(X, 0)\n",
        "\n",
        "    def backward(self, Y):\n",
        "        return Y * np.maximum(np.sign(self.last_input), 0)\n",
        "\n",
        "    def __str__(self):\n",
        "        return \"ReLU(\" + str(self.input_size) + \")\"\n",
        "    "
      ],
      "execution_count": null,
      "outputs": []
    },
    {
      "cell_type": "markdown",
      "metadata": {
        "id": "enuaR7g1w6zw"
      },
      "source": [
        "Let's initialize a neural network network with 2 hidden layers and ReLU activations."
      ]
    },
    {
      "cell_type": "code",
      "metadata": {
        "id": "pRxr-vbhWkjU",
        "colab": {
          "base_uri": "https://localhost:8080/",
          "height": 35
        },
        "outputId": "6410e201-27a2-46b2-f670-233f35b5986c"
      },
      "source": [
        "inputs = Dense(64, input_size=1)\n",
        "x = inputs\n",
        "x = ReLU()(x)\n",
        "x = Dense(64)(x)\n",
        "x = ReLU()(x)\n",
        "x = Dense(1)(x)\n",
        "outputs = x\n",
        "\n",
        "inputs.str_chain()"
      ],
      "execution_count": null,
      "outputs": [
        {
          "output_type": "execute_result",
          "data": {
            "application/vnd.google.colaboratory.intrinsic+json": {
              "type": "string"
            },
            "text/plain": [
              "'Dense(1, 64) -> ReLU(64) -> Dense(64, 64) -> ReLU(64) -> Dense(64, 1)'"
            ]
          },
          "metadata": {
            "tags": []
          },
          "execution_count": 527
        }
      ]
    },
    {
      "cell_type": "markdown",
      "metadata": {
        "id": "CvsQafWOwvYF"
      },
      "source": [
        " * Use batch gradient descent to train the network until MSE drops below $0.001$, then plot the predicted function, what do you observe?\n",
        "\n",
        " * Knowing the combination of ReLU is a peicewise linear function, is the predicted function similar?\n",
        "\n",
        " * Separate the dataset into train-validate-test. Train the network until validation loss is lowest. What is the final MSE on the test dataset?"
      ]
    },
    {
      "cell_type": "code",
      "metadata": {
        "id": "sQLUWLexXcd8"
      },
      "source": [
        "lr = 0.1\n",
        "\n",
        "for i in range(40000):\n",
        "\n",
        "    # Forward step\n",
        "    Yp = inputs.predict(X)\n",
        "\n",
        "    # Compute error and output gradient\n",
        "    dE = Yp - Y\n",
        "    E = np.mean(dE ** 2)\n",
        "\n",
        "    if i % 1000 == 0:\n",
        "        print(\"MSE:\", E)\n",
        "\n",
        "    if E < 0.001: # If MSE is small, stop\n",
        "        print(\"MSE:\", E)\n",
        "        break\n",
        "\n",
        "    # Backprop\n",
        "    outputs.backprop(dE)\n",
        "\n",
        "     # ----- TODO -----\n",
        "     # Update the weights (layer.W) for every trainable layer using the gradient (layer.grad)\n",
        "\n",
        "plt.scatter(X, Y)\n",
        "plt.plot(Xr, inputs.predict(Xr))"
      ],
      "execution_count": null,
      "outputs": []
    },
    {
      "cell_type": "markdown",
      "metadata": {
        "id": "izHf3B4lynKy"
      },
      "source": [
        "You can use the neural network module in Scikit-Learn if the following is too difficult to implement yourself. \n",
        "\n",
        " * This time change the activation functions (use the other activations except ReLU). What is the shape of the predicted function? Is it different from the network trained with ReLU activations?\n",
        "\n",
        " * Change and play around with the number of hidden layers and neurons per hidden layer. What do you observe?"
      ]
    },
    {
      "cell_type": "code",
      "metadata": {
        "id": "uYtvIJDwylky"
      },
      "source": [
        ""
      ],
      "execution_count": null,
      "outputs": []
    }
  ]
}