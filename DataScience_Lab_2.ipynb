{
  "nbformat": 4,
  "nbformat_minor": 0,
  "metadata": {
    "colab": {
      "name": "DataScience-Lab-2.ipynb",
      "provenance": [],
      "collapsed_sections": [],
      "include_colab_link": true
    },
    "kernelspec": {
      "name": "python3",
      "display_name": "Python 3"
    }
  },
  "cells": [
    {
      "cell_type": "markdown",
      "metadata": {
        "id": "view-in-github",
        "colab_type": "text"
      },
      "source": [
        "<a href=\"https://colab.research.google.com/github/Iceoid/datascience-ml-class/blob/main/DataScience_Lab_2.ipynb\" target=\"_parent\"><img src=\"https://colab.research.google.com/assets/colab-badge.svg\" alt=\"Open In Colab\"/></a>"
      ]
    },
    {
      "cell_type": "markdown",
      "metadata": {
        "id": "fTHck9JJ2UG6"
      },
      "source": [
        "<center><h1> IFT-6758  Data Science  </h1></center>\n",
        "<center><h2> Fall - 2019 </h2></center> \n",
        "<center><h3> Lab - Week 3</h3></center> \n",
        "<center><h3> </h3></center> \n",
        "<center><h3> NumPy, SciPy and matplotlib</h3></center> \n",
        "\n"
      ]
    },
    {
      "cell_type": "markdown",
      "metadata": {
        "id": "dhNcWgxaBJuz"
      },
      "source": [
        "##NUMPY"
      ]
    },
    {
      "cell_type": "markdown",
      "metadata": {
        "id": "2B7qsN1X118_"
      },
      "source": [
        "### Installation\n",
        "On Google colab numpy is already installed"
      ]
    },
    {
      "cell_type": "code",
      "metadata": {
        "id": "uVx-mfQ66K3x"
      },
      "source": [
        "!pip install numpy"
      ],
      "execution_count": null,
      "outputs": []
    },
    {
      "cell_type": "markdown",
      "metadata": {
        "id": "lKjFMJwP_4AT"
      },
      "source": [
        "### Import"
      ]
    },
    {
      "cell_type": "markdown",
      "metadata": {
        "id": "73BnScqKzAuz"
      },
      "source": [
        "The alias `np` is a convention used by the vast majority"
      ]
    },
    {
      "cell_type": "code",
      "metadata": {
        "id": "I_Riakur6LH4"
      },
      "source": [
        "import numpy as np"
      ],
      "execution_count": null,
      "outputs": []
    },
    {
      "cell_type": "markdown",
      "metadata": {
        "id": "S5uSdKsMMyE0"
      },
      "source": [
        "### [1] Array Creation "
      ]
    },
    {
      "cell_type": "markdown",
      "metadata": {
        "id": "Ox3NLEvFozwd"
      },
      "source": [
        "Array from list comprehension"
      ]
    },
    {
      "cell_type": "code",
      "metadata": {
        "id": "V1o8Cf3B6LSI"
      },
      "source": [
        "my_list = [i for i in range(36)]\n",
        "np_array = np.array(my_list)"
      ],
      "execution_count": null,
      "outputs": []
    },
    {
      "cell_type": "code",
      "metadata": {
        "id": "Z2E7LVfW5mHr"
      },
      "source": [
        "np_array.__class__"
      ],
      "execution_count": null,
      "outputs": []
    },
    {
      "cell_type": "code",
      "metadata": {
        "id": "xNIHrKpb6Lbz"
      },
      "source": [
        "np_array.shape"
      ],
      "execution_count": null,
      "outputs": []
    },
    {
      "cell_type": "code",
      "metadata": {
        "id": "jpdq2jfL33er"
      },
      "source": [
        "np_array.dtype"
      ],
      "execution_count": null,
      "outputs": []
    },
    {
      "cell_type": "code",
      "metadata": {
        "id": "OrejeCXHq88t"
      },
      "source": [
        "np_array.itemsize"
      ],
      "execution_count": null,
      "outputs": []
    },
    {
      "cell_type": "code",
      "metadata": {
        "id": "SHylOjlc4CFy"
      },
      "source": [
        "np_array"
      ],
      "execution_count": null,
      "outputs": []
    },
    {
      "cell_type": "code",
      "metadata": {
        "id": "BPMwdTyPrbGp"
      },
      "source": [
        "np_array.astype(np.float)"
      ],
      "execution_count": null,
      "outputs": []
    },
    {
      "cell_type": "code",
      "metadata": {
        "id": "9z8QQJTgrKpe"
      },
      "source": [
        "np.array([12,0,3,4,5,0,6,7,0],dtype=np.bool)"
      ],
      "execution_count": null,
      "outputs": []
    },
    {
      "cell_type": "markdown",
      "metadata": {
        "id": "U0LLY4XfM9EZ"
      },
      "source": [
        "Array from a list"
      ]
    },
    {
      "cell_type": "code",
      "metadata": {
        "id": "pp1pMsTk30AT"
      },
      "source": [
        "np.array([1, 2, 3])"
      ],
      "execution_count": null,
      "outputs": []
    },
    {
      "cell_type": "markdown",
      "metadata": {
        "id": "3Oq4-s_QNJxO"
      },
      "source": [
        "Array of zeros"
      ]
    },
    {
      "cell_type": "code",
      "metadata": {
        "id": "WP_vRs3W30AW"
      },
      "source": [
        "np.zeros(3)"
      ],
      "execution_count": null,
      "outputs": []
    },
    {
      "cell_type": "markdown",
      "metadata": {
        "id": "P2xs2zAXNQjv"
      },
      "source": [
        "Array of ones"
      ]
    },
    {
      "cell_type": "code",
      "metadata": {
        "id": "EbbQvejn30AZ"
      },
      "source": [
        "np.ones(3)"
      ],
      "execution_count": null,
      "outputs": []
    },
    {
      "cell_type": "markdown",
      "metadata": {
        "id": "s19MZEp-NWPn"
      },
      "source": [
        "Array of 3 random integers between 1 and 10\n",
        "\n",
        "\n",
        "```\n",
        "randint(start,end,number_of_values) - number_of_values in the interval [start,end)\n",
        "```\n",
        "\n"
      ]
    },
    {
      "cell_type": "code",
      "metadata": {
        "id": "Eu6mv39-30Ab"
      },
      "source": [
        "np.random.randint(1,10, 3)"
      ],
      "execution_count": null,
      "outputs": []
    },
    {
      "cell_type": "markdown",
      "metadata": {
        "id": "MQKkksrLrspz"
      },
      "source": [
        "Array from a range of integers"
      ]
    },
    {
      "cell_type": "code",
      "metadata": {
        "id": "iLaXy-9SrH1m"
      },
      "source": [
        "np.arange(1, 100, 5)"
      ],
      "execution_count": null,
      "outputs": []
    },
    {
      "cell_type": "markdown",
      "metadata": {
        "id": "EEP0cFOcNrP2"
      },
      "source": [
        "Array of linearly spaced elements"
      ]
    },
    {
      "cell_type": "code",
      "metadata": {
        "id": "ulOnYoU230Ad"
      },
      "source": [
        "np.linspace(0, 10, 5 )"
      ],
      "execution_count": null,
      "outputs": []
    },
    {
      "cell_type": "markdown",
      "metadata": {
        "id": "ltpGqa5JYIw3"
      },
      "source": [
        "Simple 2D array"
      ]
    },
    {
      "cell_type": "code",
      "metadata": {
        "id": "uvtGjFTR30Af"
      },
      "source": [
        "np.array([[1,2,3],\n",
        "         [4,5,6],\n",
        "         [7,8,9]])"
      ],
      "execution_count": null,
      "outputs": []
    },
    {
      "cell_type": "markdown",
      "metadata": {
        "id": "qihCXFxcqw6C"
      },
      "source": [
        "Alternate way to specify higher dimensional arrays"
      ]
    },
    {
      "cell_type": "code",
      "metadata": {
        "id": "pOBdF_tTqviJ"
      },
      "source": [
        "np.matrix('1 2; 3 4')"
      ],
      "execution_count": null,
      "outputs": []
    },
    {
      "cell_type": "markdown",
      "metadata": {
        "id": "LB3RLmFdX7vD"
      },
      "source": [
        "Array with values between 0 and 1"
      ]
    },
    {
      "cell_type": "code",
      "metadata": {
        "id": "HaTPFxfY30Ah"
      },
      "source": [
        "np.random.random((3,4))"
      ],
      "execution_count": null,
      "outputs": []
    },
    {
      "cell_type": "markdown",
      "metadata": {
        "id": "bQ80v76SYCou"
      },
      "source": [
        "Array with normally distributed elements"
      ]
    },
    {
      "cell_type": "code",
      "metadata": {
        "id": "dKo8YPQhF3GO"
      },
      "source": [
        "np.random.randn(3,4)"
      ],
      "execution_count": null,
      "outputs": []
    },
    {
      "cell_type": "markdown",
      "metadata": {
        "id": "0Vdrl2yksN_x"
      },
      "source": [
        "Example arrays : 1D array a and 2D array b\n"
      ]
    },
    {
      "cell_type": "code",
      "metadata": {
        "scrolled": true,
        "id": "92oz7rFe30Ak"
      },
      "source": [
        "a = np.array([1,2,3, 4])\n",
        "b = np.random.randint(0,10, (3,3))\n",
        "\n",
        "print(\"a = \",a)\n",
        "print(\"b = \",b)"
      ],
      "execution_count": null,
      "outputs": []
    },
    {
      "cell_type": "markdown",
      "metadata": {
        "id": "JklrMYYcsfBB"
      },
      "source": [
        "Shape and dimension of arrays"
      ]
    },
    {
      "cell_type": "code",
      "metadata": {
        "id": "obBJnmLl30Ao"
      },
      "source": [
        "print(\"Shape of a:\", np.shape(a))\n",
        "print(\"Shape of b:\", np.shape(b))\n",
        "\n",
        "print('Dimension of a:', np.ndim(a))\n",
        "print('Dimension of b:', np.ndim(b))"
      ],
      "execution_count": null,
      "outputs": []
    },
    {
      "cell_type": "markdown",
      "metadata": {
        "id": "k9dE7QVQsjQ3"
      },
      "source": [
        "Number of elements"
      ]
    },
    {
      "cell_type": "code",
      "metadata": {
        "id": "M5a5sEo530Ap"
      },
      "source": [
        "print('Number of elements in a:', np.size(a))\n",
        "print('Number of elements in b:', np.size(b))"
      ],
      "execution_count": null,
      "outputs": []
    },
    {
      "cell_type": "markdown",
      "metadata": {
        "id": "P9ktlJpS30As"
      },
      "source": [
        "### [2] Indexing "
      ]
    },
    {
      "cell_type": "markdown",
      "metadata": {
        "id": "_tX1uDqgs7Yg"
      },
      "source": [
        "First element of a"
      ]
    },
    {
      "cell_type": "code",
      "metadata": {
        "id": "0KiQc0GL30A0"
      },
      "source": [
        "print(a[0])\n",
        "print(a[-4])"
      ],
      "execution_count": null,
      "outputs": []
    },
    {
      "cell_type": "markdown",
      "metadata": {
        "id": "aArcxZxus8_W"
      },
      "source": [
        "Last element of a"
      ]
    },
    {
      "cell_type": "code",
      "metadata": {
        "id": "d-2JMaSG30A4"
      },
      "source": [
        "print(a[-1])\n",
        "print(a[3])"
      ],
      "execution_count": null,
      "outputs": []
    },
    {
      "cell_type": "markdown",
      "metadata": {
        "id": "yqId4f3stAO8"
      },
      "source": [
        "First row of b"
      ]
    },
    {
      "cell_type": "code",
      "metadata": {
        "id": "5yLi8hNw30A6"
      },
      "source": [
        "print(b[0]) \n",
        "print(b[0,:])"
      ],
      "execution_count": null,
      "outputs": []
    },
    {
      "cell_type": "markdown",
      "metadata": {
        "id": "D47ZEqpGtET2"
      },
      "source": [
        "Second column of b"
      ]
    },
    {
      "cell_type": "code",
      "metadata": {
        "id": "gJcTX8pC30A8"
      },
      "source": [
        "b[:,1]"
      ],
      "execution_count": null,
      "outputs": []
    },
    {
      "cell_type": "markdown",
      "metadata": {
        "id": "qR-6Vo8ktI-Q"
      },
      "source": [
        "Two new arrays"
      ]
    },
    {
      "cell_type": "code",
      "metadata": {
        "id": "XtMiu1wj30A-"
      },
      "source": [
        "x = np.array(['a', 'b', 'c'])\n",
        "y = np.array([['d','e','f'], \n",
        "              ['g', 'h', 'k']])\n",
        "\n",
        "print(x)\n",
        "print(y)"
      ],
      "execution_count": null,
      "outputs": []
    },
    {
      "cell_type": "markdown",
      "metadata": {
        "id": "gBCL_UPytRmp"
      },
      "source": [
        "Indexing 'c' from x"
      ]
    },
    {
      "cell_type": "code",
      "metadata": {
        "id": "9yRkolt330BI"
      },
      "source": [
        "ind = [2]\n",
        "x[ind]"
      ],
      "execution_count": null,
      "outputs": []
    },
    {
      "cell_type": "markdown",
      "metadata": {
        "id": "fT4h7tjftaG_"
      },
      "source": [
        "Indexing 'e','h' from y"
      ]
    },
    {
      "cell_type": "code",
      "metadata": {
        "id": "DXG_rXbw30BL"
      },
      "source": [
        "ind_2d = [[0,1],[1]]\n",
        "y[ind_2d]"
      ],
      "execution_count": null,
      "outputs": []
    },
    {
      "cell_type": "markdown",
      "metadata": {
        "id": "texW-VHk30BN"
      },
      "source": [
        "### [3] Slicing\n"
      ]
    },
    {
      "cell_type": "markdown",
      "metadata": {
        "id": "-3UY_gVVtmNU"
      },
      "source": [
        "Example array of integers from 1 to 10"
      ]
    },
    {
      "cell_type": "code",
      "metadata": {
        "id": "YohttjXd30BO"
      },
      "source": [
        "X = np.arange(1, 11, dtype=int)\n",
        "X"
      ],
      "execution_count": null,
      "outputs": []
    },
    {
      "cell_type": "markdown",
      "metadata": {
        "id": "MxGdY-zFto5A"
      },
      "source": [
        "First two elements of X"
      ]
    },
    {
      "cell_type": "code",
      "metadata": {
        "id": "AVU-sx-w30BP"
      },
      "source": [
        "X[:2]"
      ],
      "execution_count": null,
      "outputs": []
    },
    {
      "cell_type": "markdown",
      "metadata": {
        "id": "mow-9Ee3tsge"
      },
      "source": [
        "Somewhere in the middle = 3, 4, 5"
      ]
    },
    {
      "cell_type": "code",
      "metadata": {
        "id": "XidRDF0E30BS"
      },
      "source": [
        "X[2:5]"
      ],
      "execution_count": null,
      "outputs": []
    },
    {
      "cell_type": "markdown",
      "metadata": {
        "id": "xDzI4-yHtztv"
      },
      "source": [
        "Odd indices using skip"
      ]
    },
    {
      "cell_type": "code",
      "metadata": {
        "id": "MQOMFZ-E30BU"
      },
      "source": [
        "X[::2]"
      ],
      "execution_count": null,
      "outputs": []
    },
    {
      "cell_type": "markdown",
      "metadata": {
        "id": "HAOvTXDmt9Zi"
      },
      "source": [
        "Even indices using skip"
      ]
    },
    {
      "cell_type": "code",
      "metadata": {
        "id": "BClbH8_N30BV"
      },
      "source": [
        "X[1::2]"
      ],
      "execution_count": null,
      "outputs": []
    },
    {
      "cell_type": "markdown",
      "metadata": {
        "id": "dzaD9fQzuBNK"
      },
      "source": [
        "Example 2D array"
      ]
    },
    {
      "cell_type": "code",
      "metadata": {
        "id": "mbHDuPI030BX"
      },
      "source": [
        "Y= np.arange(1,10).reshape(3,3)\n",
        "Y"
      ],
      "execution_count": null,
      "outputs": []
    },
    {
      "cell_type": "markdown",
      "metadata": {
        "id": "CcbH979wuEVF"
      },
      "source": [
        "First and second row\n"
      ]
    },
    {
      "cell_type": "code",
      "metadata": {
        "id": "30LG8L4530BY"
      },
      "source": [
        "Y[:2,:]"
      ],
      "execution_count": null,
      "outputs": []
    },
    {
      "cell_type": "markdown",
      "metadata": {
        "id": "dvzDXeptuI0b"
      },
      "source": [
        "Second and third column"
      ]
    },
    {
      "cell_type": "code",
      "metadata": {
        "id": "5-spSpsr30Ba"
      },
      "source": [
        "Y[:, 1:]"
      ],
      "execution_count": null,
      "outputs": []
    },
    {
      "cell_type": "markdown",
      "metadata": {
        "id": "jbg72kXWuWGd"
      },
      "source": [
        "Partial row : 5, 6\n"
      ]
    },
    {
      "cell_type": "code",
      "metadata": {
        "id": "A-Bo9Lam30Bb"
      },
      "source": [
        "Y[1,1:]"
      ],
      "execution_count": null,
      "outputs": []
    },
    {
      "cell_type": "markdown",
      "metadata": {
        "id": "i8VuqiFj30Bd"
      },
      "source": [
        "### [4] Universal Functions (ufuncs)\n",
        "**Fast element-wise operations on arrays**"
      ]
    },
    {
      "cell_type": "code",
      "metadata": {
        "id": "n5Zpl20m30Be"
      },
      "source": [
        "X"
      ],
      "execution_count": null,
      "outputs": []
    },
    {
      "cell_type": "markdown",
      "metadata": {
        "id": "YZ_OGaequnk7"
      },
      "source": [
        "Maximum element"
      ]
    },
    {
      "cell_type": "code",
      "metadata": {
        "id": "c7qvoqAM30Bi"
      },
      "source": [
        "np.max(X)"
      ],
      "execution_count": null,
      "outputs": []
    },
    {
      "cell_type": "markdown",
      "metadata": {
        "id": "Esmm1tAwupnG"
      },
      "source": [
        "Mean of all elements"
      ]
    },
    {
      "cell_type": "code",
      "metadata": {
        "id": "GxkPQwBh30Bk"
      },
      "source": [
        "np.mean(X)"
      ],
      "execution_count": null,
      "outputs": []
    },
    {
      "cell_type": "markdown",
      "metadata": {
        "id": "EFDNjCdUuuEd"
      },
      "source": [
        "Raising each value to power of 4\n"
      ]
    },
    {
      "cell_type": "code",
      "metadata": {
        "id": "1_vAnx-t30Bl"
      },
      "source": [
        "np.power(X, 4)"
      ],
      "execution_count": null,
      "outputs": []
    },
    {
      "cell_type": "markdown",
      "metadata": {
        "id": "78xX7sYwuyQA"
      },
      "source": [
        "Trigonometric functions"
      ]
    },
    {
      "cell_type": "code",
      "metadata": {
        "id": "3hI7QfFi30Bn"
      },
      "source": [
        "print(np.sin(X))\n",
        "print(np.tan(X))"
      ],
      "execution_count": null,
      "outputs": []
    },
    {
      "cell_type": "markdown",
      "metadata": {
        "id": "nUD0Qrr9u16C"
      },
      "source": [
        "Computing $(sin \\; x_{ij})^2 + (cos \\; x_{ij})^2$ element-wise"
      ]
    },
    {
      "cell_type": "code",
      "metadata": {
        "id": "xax0W2nm30Bq"
      },
      "source": [
        "# x2 + y2 = 1\n",
        "np.square(np.sin(X)) + np.square(np.cos(X))"
      ],
      "execution_count": null,
      "outputs": []
    },
    {
      "cell_type": "markdown",
      "metadata": {
        "id": "g-HHXNfHvG2U"
      },
      "source": [
        "2D array"
      ]
    },
    {
      "cell_type": "code",
      "metadata": {
        "id": "vXPH4FQm30Bs"
      },
      "source": [
        "Y"
      ],
      "execution_count": null,
      "outputs": []
    },
    {
      "cell_type": "markdown",
      "metadata": {
        "id": "NMJAcurrvJjw"
      },
      "source": [
        "Element-wise multiplication"
      ]
    },
    {
      "cell_type": "code",
      "metadata": {
        "id": "MHn_A5aA30Bv"
      },
      "source": [
        "np.multiply(Y, 2)"
      ],
      "execution_count": null,
      "outputs": []
    },
    {
      "cell_type": "markdown",
      "metadata": {
        "id": "5tiEaGDzvOFX"
      },
      "source": [
        "Split Y into 3 subarrays"
      ]
    },
    {
      "cell_type": "code",
      "metadata": {
        "id": "dvlh8zz530Bx"
      },
      "source": [
        "np.split(Y, 3)"
      ],
      "execution_count": null,
      "outputs": []
    },
    {
      "cell_type": "markdown",
      "metadata": {
        "id": "h8NcgJ8v30Bz"
      },
      "source": [
        "### [5] Broadcasting"
      ]
    },
    {
      "cell_type": "markdown",
      "metadata": {
        "id": "e9K7DgOP30Bz"
      },
      "source": [
        " Broadcasting is being able to use ufuncs and many other operations on different size of arrays"
      ]
    },
    {
      "cell_type": "code",
      "metadata": {
        "id": "F1TvYZLT30Bz"
      },
      "source": [
        "X"
      ],
      "execution_count": null,
      "outputs": []
    },
    {
      "cell_type": "markdown",
      "metadata": {
        "id": "CBmSFhEMvYBM"
      },
      "source": [
        "Add 5 to each element"
      ]
    },
    {
      "cell_type": "code",
      "metadata": {
        "id": "OybWQPju30B1"
      },
      "source": [
        "X + 5"
      ],
      "execution_count": null,
      "outputs": []
    },
    {
      "cell_type": "code",
      "metadata": {
        "id": "lCqg_Wm330B3"
      },
      "source": [
        "np.add(X, 5)"
      ],
      "execution_count": null,
      "outputs": []
    },
    {
      "cell_type": "markdown",
      "metadata": {
        "id": "GKeed4JKvc1y"
      },
      "source": [
        "Array Z with newaxis"
      ]
    },
    {
      "cell_type": "code",
      "metadata": {
        "id": "pHCIA7ye30B6"
      },
      "source": [
        "Z = np.arange(3)[:, np.newaxis]\n",
        "Z"
      ],
      "execution_count": null,
      "outputs": []
    },
    {
      "cell_type": "code",
      "metadata": {
        "id": "-AbjREHUvkLD"
      },
      "source": [
        "Z.shape"
      ],
      "execution_count": null,
      "outputs": []
    },
    {
      "cell_type": "code",
      "metadata": {
        "id": "MSaoZMjIvug7"
      },
      "source": [
        "Y.shape"
      ],
      "execution_count": null,
      "outputs": []
    },
    {
      "cell_type": "code",
      "metadata": {
        "id": "lHRMcBgc30B8"
      },
      "source": [
        "np.multiply(Y, Z)"
      ],
      "execution_count": null,
      "outputs": []
    },
    {
      "cell_type": "code",
      "metadata": {
        "id": "FxuA0fenF3Rc"
      },
      "source": [
        "np.matmul(Y, Z)"
      ],
      "execution_count": null,
      "outputs": []
    },
    {
      "cell_type": "markdown",
      "metadata": {
        "id": "cdp7oTYT30B-"
      },
      "source": [
        "### [6] Other Operations"
      ]
    },
    {
      "cell_type": "code",
      "metadata": {
        "id": "n6__1gGJ30B_"
      },
      "source": [
        "x = np.random.randint(1,5, 10)\n",
        "x"
      ],
      "execution_count": null,
      "outputs": []
    },
    {
      "cell_type": "code",
      "metadata": {
        "id": "2AhVk4Ru30CB"
      },
      "source": [
        "y = np.random.randint(1,5, (3,3))\n",
        "y"
      ],
      "execution_count": null,
      "outputs": []
    },
    {
      "cell_type": "markdown",
      "metadata": {
        "id": "VvtDh1yLwKzg"
      },
      "source": [
        "Sorting"
      ]
    },
    {
      "cell_type": "code",
      "metadata": {
        "id": "mom7_ymM30CD"
      },
      "source": [
        "np.sort(x)"
      ],
      "execution_count": null,
      "outputs": []
    },
    {
      "cell_type": "markdown",
      "metadata": {
        "id": "eGrKxoUFwMnP"
      },
      "source": [
        "Sorting along rows"
      ]
    },
    {
      "cell_type": "code",
      "metadata": {
        "id": "PTtb3TYN30CF"
      },
      "source": [
        "np.sort(y, axis=0)"
      ],
      "execution_count": null,
      "outputs": []
    },
    {
      "cell_type": "markdown",
      "metadata": {
        "id": "PvNTU6tOwVNR"
      },
      "source": [
        "Sorting along columns"
      ]
    },
    {
      "cell_type": "code",
      "metadata": {
        "id": "c0xS9Sge30CH"
      },
      "source": [
        "np.sort(y, axis=1)"
      ],
      "execution_count": null,
      "outputs": []
    },
    {
      "cell_type": "markdown",
      "metadata": {
        "id": "tLjHjmxIwYsD"
      },
      "source": [
        "Conditions on arrays"
      ]
    },
    {
      "cell_type": "code",
      "metadata": {
        "id": "NCi1o1ey30CJ"
      },
      "source": [
        "# == , !=, < , >, >=, <= operations on arrays\n",
        "x > 3"
      ],
      "execution_count": null,
      "outputs": []
    },
    {
      "cell_type": "markdown",
      "metadata": {
        "id": "WyvfBEFHwe_b"
      },
      "source": [
        "Array masking"
      ]
    },
    {
      "cell_type": "code",
      "metadata": {
        "id": "hEiZgr5-30CK"
      },
      "source": [
        "x[x>3]"
      ],
      "execution_count": null,
      "outputs": []
    },
    {
      "cell_type": "code",
      "metadata": {
        "id": "Rw-zn_Z230CM"
      },
      "source": [
        "x[(x <= 3) & (x>1)]"
      ],
      "execution_count": null,
      "outputs": []
    },
    {
      "cell_type": "markdown",
      "metadata": {
        "id": "UFKtWMd-woly"
      },
      "source": [
        "## SCIPY"
      ]
    },
    {
      "cell_type": "markdown",
      "metadata": {
        "id": "gJB4IBaZwpjO"
      },
      "source": [
        "### Installation"
      ]
    },
    {
      "cell_type": "code",
      "metadata": {
        "id": "D-kAkvk4wyu6"
      },
      "source": [
        "!pip install scipy"
      ],
      "execution_count": null,
      "outputs": []
    },
    {
      "cell_type": "markdown",
      "metadata": {
        "id": "gimvegoZwo_6"
      },
      "source": [
        "### Import"
      ]
    },
    {
      "cell_type": "code",
      "metadata": {
        "id": "6ZPozo-Rw2ng"
      },
      "source": [
        "from scipy import linalg\n",
        "from scipy import stats\n",
        "from scipy import optimize"
      ],
      "execution_count": null,
      "outputs": []
    },
    {
      "cell_type": "markdown",
      "metadata": {
        "id": "HwzJDIXaxBqC"
      },
      "source": [
        "Solving a system of linear equations"
      ]
    },
    {
      "cell_type": "code",
      "metadata": {
        "id": "eK0ID-KJxB8z"
      },
      "source": [
        "a = np.array([[3, 2, 0], [1, -1, 0], [0, 5, 1]])\n",
        "b = np.array([2, 4, -1])\n",
        "\n",
        "#Pass the values to the solve function\n",
        "x = linalg.solve(a, b)\n",
        "\n",
        "print(x)"
      ],
      "execution_count": null,
      "outputs": []
    },
    {
      "cell_type": "markdown",
      "metadata": {
        "id": "-bvDJm9IxN4I"
      },
      "source": [
        "Computing a matrix determinant"
      ]
    },
    {
      "cell_type": "code",
      "metadata": {
        "id": "ANYrI59axOEC"
      },
      "source": [
        "A = np.array([[1,2],[3,4]])\n",
        "print(linalg.det(A))"
      ],
      "execution_count": null,
      "outputs": []
    },
    {
      "cell_type": "markdown",
      "metadata": {
        "id": "m37DOFRrxcCw"
      },
      "source": [
        "Computing eigen values and eigen vectors"
      ]
    },
    {
      "cell_type": "code",
      "metadata": {
        "id": "6z1JOtIUxcSu"
      },
      "source": [
        "A = np.array([[1,2],[3,4]])\n",
        "\n",
        "e_vals, e_vectors = linalg.eig(A)\n",
        "\n",
        "print(\"eigen vals = \",e_vals)\n",
        "print(\"eigen vector = \",e_vectors)"
      ],
      "execution_count": null,
      "outputs": []
    },
    {
      "cell_type": "markdown",
      "metadata": {
        "id": "V82j5bqBx-SL"
      },
      "source": [
        "Computing the root of an equation"
      ]
    },
    {
      "cell_type": "code",
      "metadata": {
        "id": "a37V46xvx-gO"
      },
      "source": [
        "from scipy.optimize import root\n",
        "\n",
        "def equation(x):\n",
        "   return x*2 + 2 * np.cos(x)\n",
        "\n",
        "print(root(equation, 0.3))\n"
      ],
      "execution_count": null,
      "outputs": []
    },
    {
      "cell_type": "markdown",
      "metadata": {
        "id": "GO5sNqTGyVfu"
      },
      "source": [
        "Statistical distributions"
      ]
    },
    {
      "cell_type": "code",
      "metadata": {
        "id": "c2mF3R4_ybRE"
      },
      "source": [
        "from scipy.stats import norm\n",
        "\n",
        "print(norm.rvs(size = 5))"
      ],
      "execution_count": null,
      "outputs": []
    },
    {
      "cell_type": "code",
      "metadata": {
        "id": "TkmnoJnuyUVk"
      },
      "source": [
        "from scipy.stats import uniform\n",
        "\n",
        "print(uniform.cdf([0, 1, 2, 3, 4, 5], loc = 1, scale = 4))"
      ],
      "execution_count": null,
      "outputs": []
    },
    {
      "cell_type": "markdown",
      "metadata": {
        "id": "YKwUBcWdyUnB"
      },
      "source": [
        "Some special functions like : gamma function"
      ]
    },
    {
      "cell_type": "code",
      "metadata": {
        "id": "CCsvKTi-y3b8"
      },
      "source": [
        "from scipy.special import gamma\n",
        "\n",
        "print(gamma([0, 0.5, 1, 5]))"
      ],
      "execution_count": null,
      "outputs": []
    },
    {
      "cell_type": "markdown",
      "metadata": {
        "id": "E9LHp9UECBLD"
      },
      "source": [
        "## MATPLOTLIB"
      ]
    },
    {
      "cell_type": "markdown",
      "metadata": {
        "id": "rkaj4RksCIT8"
      },
      "source": [
        "### Installation"
      ]
    },
    {
      "cell_type": "code",
      "metadata": {
        "id": "qAuH1YS3CB1v"
      },
      "source": [
        "!pip install matplotlib"
      ],
      "execution_count": null,
      "outputs": []
    },
    {
      "cell_type": "markdown",
      "metadata": {
        "id": "edMrTIiNCdOx"
      },
      "source": [
        "### Import"
      ]
    },
    {
      "cell_type": "code",
      "metadata": {
        "id": "xbx2UfKYCdcP"
      },
      "source": [
        "import matplotlib.pyplot as plt"
      ],
      "execution_count": null,
      "outputs": []
    },
    {
      "cell_type": "markdown",
      "metadata": {
        "id": "WALI8x49GUpe"
      },
      "source": [
        "### [1] Line Plots"
      ]
    },
    {
      "cell_type": "code",
      "metadata": {
        "id": "k6dVf2brBHdX"
      },
      "source": [
        "x = np.linspace(0,10)\n",
        "plt.plot(x)\n",
        "plt.show()"
      ],
      "execution_count": null,
      "outputs": []
    },
    {
      "cell_type": "code",
      "metadata": {
        "id": "YPqysZYJAs2C"
      },
      "source": [
        "x = np.linspace(0,10)\n",
        "y = np.exp(x)\n",
        "plt.plot(x,y)\n",
        "plt.show()"
      ],
      "execution_count": null,
      "outputs": []
    },
    {
      "cell_type": "code",
      "metadata": {
        "id": "08RTGn_xE3MP"
      },
      "source": [
        "x  = [1, 2, 3, 4, 5, 6, 7, 8, 9]\n",
        "y1 = [1, 3, 5, 3, 1, 3, 5, 3, 1]\n",
        "y2 = [2, 4, 6, 4, 2, 4, 6, 4, 2]\n",
        "plt.plot(x, y1, label=\"line L\")\n",
        "plt.plot(x, y2, label=\"line H\")\n",
        "plt.plot()\n",
        "\n",
        "plt.xlabel(\"x axis\")\n",
        "plt.ylabel(\"y axis\")\n",
        "plt.title(\"Line Graph Example\")\n",
        "plt.legend()\n",
        "plt.show()"
      ],
      "execution_count": null,
      "outputs": []
    },
    {
      "cell_type": "markdown",
      "metadata": {
        "id": "sIZLTZ0pdo0Z"
      },
      "source": [
        "### [2] Bar Plots"
      ]
    },
    {
      "cell_type": "code",
      "metadata": {
        "id": "bZv4MenQpYOF"
      },
      "source": [
        "# Look at index 4 and 6, which demonstrate overlapping cases.\n",
        "x1 = [1, 3, 4, 5, 6, 7, 9]\n",
        "y1 = [4, 7, 2, 4, 7, 8, 3]\n",
        "\n",
        "x2 = [2, 4, 6, 8, 10]\n",
        "y2 = [5, 6, 2, 6, 2]\n",
        "\n",
        "# Colors: https://matplotlib.org/api/colors_api.html\n",
        "\n",
        "plt.bar(x1, y1, label=\"Blue Bar\", color='b')\n",
        "plt.bar(x2, y2, label=\"Green Bar\", color='g')\n",
        "plt.plot()\n",
        "\n",
        "plt.xlabel(\"bar number\")\n",
        "plt.ylabel(\"bar height\")\n",
        "plt.title(\"Bar Chart Example\")\n",
        "plt.legend()\n",
        "plt.show()"
      ],
      "execution_count": null,
      "outputs": []
    },
    {
      "cell_type": "markdown",
      "metadata": {
        "id": "YQO2Lw8Xdu7x"
      },
      "source": [
        "### [3] Histograms"
      ]
    },
    {
      "cell_type": "code",
      "metadata": {
        "cellView": "both",
        "id": "SZ-DMbnPMbMY"
      },
      "source": [
        "# Use numpy to generate a bunch of random data in a bell curve around 5.\n",
        "n = 5 + np.random.randn(1000)\n",
        "\n",
        "m = [m for m in range(len(n))]\n",
        "plt.bar(m, n)\n",
        "plt.title(\"Raw Data\")\n",
        "plt.show()\n",
        "\n",
        "plt.hist(n, bins=20)\n",
        "plt.title(\"Histogram\")\n",
        "plt.show()\n",
        "\n",
        "plt.hist(n, cumulative=True, bins=20)\n",
        "plt.title(\"Cumulative Histogram\")\n",
        "plt.show()"
      ],
      "execution_count": null,
      "outputs": []
    },
    {
      "cell_type": "markdown",
      "metadata": {
        "id": "9-CelVUmdz8r"
      },
      "source": [
        "### [4] Scatter Plots"
      ]
    },
    {
      "cell_type": "code",
      "metadata": {
        "id": "79C7jc9mv-Ji"
      },
      "source": [
        "x1 = [2, 3, 4]\n",
        "y1 = [5, 5, 5]\n",
        "\n",
        "x2 = [1, 2, 3, 4, 5]\n",
        "y2 = [2, 3, 2, 3, 4]\n",
        "y3 = [6, 8, 7, 8, 7]\n",
        "\n",
        "# Markers: https://matplotlib.org/api/markers_api.html\n",
        "\n",
        "plt.scatter(x1, y1)\n",
        "plt.scatter(x2, y2, marker='v', color='r')\n",
        "plt.scatter(x2, y3, marker='^', color='m')\n",
        "plt.title('Scatter Plot Example')\n",
        "plt.show()"
      ],
      "execution_count": null,
      "outputs": []
    },
    {
      "cell_type": "markdown",
      "metadata": {
        "id": "nlk-Sk0Nd82p"
      },
      "source": [
        "### [5] Stack Plots"
      ]
    },
    {
      "cell_type": "code",
      "metadata": {
        "id": "5sxEM0pJzpgr"
      },
      "source": [
        "idxes = [ 1,  2,  3,  4,  5,  6,  7,  8,  9]\n",
        "arr1  = [23, 40, 28, 43,  8, 44, 43, 18, 17]\n",
        "arr2  = [17, 30, 22, 14, 17, 17, 29, 22, 30]\n",
        "arr3  = [15, 31, 18, 22, 18, 19, 13, 32, 39]\n",
        "\n",
        "# Adding legend for stack plots is tricky.\n",
        "plt.plot([], [], color='r', label = 'D 1')\n",
        "plt.plot([], [], color='g', label = 'D 2')\n",
        "plt.plot([], [], color='b', label = 'D 3')\n",
        "\n",
        "plt.stackplot(idxes, arr1, arr2, arr3, colors= ['r', 'g', 'b'])\n",
        "plt.title('Stack Plot Example')\n",
        "plt.legend()\n",
        "plt.show()"
      ],
      "execution_count": null,
      "outputs": []
    },
    {
      "cell_type": "markdown",
      "metadata": {
        "id": "C0LOohpqeCjx"
      },
      "source": [
        "### [6] Pie Charts"
      ]
    },
    {
      "cell_type": "code",
      "metadata": {
        "id": "ZdEG-d4g4U6v"
      },
      "source": [
        "import matplotlib.pyplot as plt\n",
        "\n",
        "labels = 'S1', 'S2', 'S3'\n",
        "sections = [56, 66, 24]\n",
        "colors = ['c', 'g', 'y']\n",
        "\n",
        "plt.pie(sections, labels=labels, colors=colors,\n",
        "        startangle=90,\n",
        "        explode = (0, 0.1, 0),\n",
        "        autopct = '%1.2f%%')\n",
        "\n",
        "plt.axis('equal') # Try commenting this out.\n",
        "plt.title('Pie Chart Example')\n",
        "plt.show()"
      ],
      "execution_count": null,
      "outputs": []
    },
    {
      "cell_type": "markdown",
      "metadata": {
        "id": "sX97x87MTyIf"
      },
      "source": [
        "### [7] fill_between and alpha"
      ]
    },
    {
      "cell_type": "code",
      "metadata": {
        "id": "BCUl8mTMT4sN"
      },
      "source": [
        "import matplotlib.pyplot as plt\n",
        "import numpy as np\n",
        "\n",
        "ys = 200 + np.random.randn(100)\n",
        "x = [x for x in range(len(ys))]\n",
        "\n",
        "plt.plot(x, ys, '-')\n",
        "plt.fill_between(x, ys, 195, where=(ys > 195), facecolor='g', alpha=0.6)\n",
        "\n",
        "plt.title(\"Fills and Alpha Example\")\n",
        "plt.show()"
      ],
      "execution_count": null,
      "outputs": []
    },
    {
      "cell_type": "markdown",
      "metadata": {
        "id": "jONspxyzeT4Y"
      },
      "source": [
        "### [8] Subplotting "
      ]
    },
    {
      "cell_type": "markdown",
      "metadata": {
        "id": "ycBkQxArofbA"
      },
      "source": [
        "Using subplots"
      ]
    },
    {
      "cell_type": "code",
      "metadata": {
        "id": "y30-vx8roAf4"
      },
      "source": [
        "fig, ax = plt.subplots(2, 2)\n",
        "\n",
        "ax[0, 0].plot(np.random.random(10), color = 'r') #row=0, col=0\n",
        "ax[1, 0].plot(np.random.random(10), color = 'b') #row=1, col=0\n",
        "ax[0, 1].plot(np.random.random(10), color = 'g') #row=0, col=1\n",
        "ax[1, 1].plot(np.random.random(10), color = 'k') #row=1, col=1\n",
        "plt.show()"
      ],
      "execution_count": null,
      "outputs": []
    },
    {
      "cell_type": "markdown",
      "metadata": {
        "id": "p1V_slM8ohza"
      },
      "source": [
        "Using figure"
      ]
    },
    {
      "cell_type": "code",
      "metadata": {
        "id": "dDAxtFqlnL2N"
      },
      "source": [
        "fig = plt.figure()\n",
        "ax1 = fig.add_axes([0.1, 0.5, 0.8, 0.4], ylim=(-1.2, 1.2))\n",
        "ax2 = fig.add_axes([0.1, 0.1, 0.8, 0.4], ylim=(-1.2, 1.2))\n",
        "\n",
        "x = np.linspace(0, 10)\n",
        "ax1.plot(np.sin(x))\n",
        "ax2.plot(np.cos(x))\n",
        "\n",
        "plt.show()"
      ],
      "execution_count": null,
      "outputs": []
    },
    {
      "cell_type": "code",
      "metadata": {
        "id": "rDWEcisFnMlN"
      },
      "source": [
        "fig = plt.figure()\n",
        "#fig.subplots_adjust(hspace=0.4, wspace=0.4)\n",
        "\n",
        "for i in range(1, 7):\n",
        "    plt.subplot(2, 3, i)\n",
        "    plt.text(0.5, 0.5, str((2, 3, i)),fontsize=18, ha='center')"
      ],
      "execution_count": null,
      "outputs": []
    },
    {
      "cell_type": "markdown",
      "metadata": {
        "id": "ejOPyV6pom9s"
      },
      "source": [
        "Using subplot2grid"
      ]
    },
    {
      "cell_type": "code",
      "metadata": {
        "id": "JF-dVGj3ExQm"
      },
      "source": [
        "import matplotlib.pyplot as plt\n",
        "import numpy as np\n",
        "\n",
        "def random_plots():\n",
        "  xs = []\n",
        "  ys = []\n",
        "  \n",
        "  for i in range(20):\n",
        "    x = i\n",
        "    y = np.random.randint(10)\n",
        "    \n",
        "    xs.append(x)\n",
        "    ys.append(y)\n",
        "  \n",
        "  return xs, ys\n",
        "\n",
        "fig = plt.figure()\n",
        "ax1 = plt.subplot2grid((5, 2), (0, 0), rowspan=1, colspan=2)\n",
        "ax2 = plt.subplot2grid((5, 2), (1, 0), rowspan=3, colspan=2)\n",
        "ax3 = plt.subplot2grid((5, 2), (4, 0), rowspan=1, colspan=1)\n",
        "ax4 = plt.subplot2grid((5, 2), (4, 1), rowspan=1, colspan=1)\n",
        "\n",
        "x, y = random_plots()\n",
        "ax1.plot(x, y)\n",
        "\n",
        "x, y = random_plots()\n",
        "ax2.plot(x, y)\n",
        "\n",
        "x, y = random_plots()\n",
        "ax3.plot(x, y)\n",
        "\n",
        "x, y = random_plots()\n",
        "ax4.plot(x, y)\n",
        "\n",
        "plt.tight_layout()\n",
        "plt.show()"
      ],
      "execution_count": null,
      "outputs": []
    },
    {
      "cell_type": "markdown",
      "metadata": {
        "id": "A_xnqKsS27Kx"
      },
      "source": [
        "## EXERCISES"
      ]
    },
    {
      "cell_type": "markdown",
      "metadata": {
        "id": "-F1Nna0827rg"
      },
      "source": [
        "#### 1. Generate a numpy array containing the first 50 natural numbers. Compute another array that is equivalent to the element-wise square root of the first array. \n",
        "\n",
        "\n",
        "> #### You should do this in two different ways: <br/>  (i) Using the math.sqrt() function inside a list comprehension computing explicitly for each element through a loop <br/> (ii) Using the numpy ufunc np.sqrt().   \n",
        "\n",
        "\n",
        "#### Use the python timeit function to compute and print the time taken for performing (i) and (ii). Note down the speedup/slowdown achieved in the case (ii)."
      ]
    },
    {
      "cell_type": "code",
      "metadata": {
        "id": "9pJdHTry28XE"
      },
      "source": [
        ""
      ],
      "execution_count": null,
      "outputs": []
    },
    {
      "cell_type": "markdown",
      "metadata": {
        "id": "wUTSvnqf28p1"
      },
      "source": [
        "#### 2. Create a 10 x 10 array with all elements as integers zero in just one line of code, replace each element on the 'border' of the array with an integer 100. Print the array to verify your result.\n",
        "\n"
      ]
    },
    {
      "cell_type": "code",
      "metadata": {
        "id": "BseRH1hd28-P"
      },
      "source": [
        ""
      ],
      "execution_count": null,
      "outputs": []
    },
    {
      "cell_type": "markdown",
      "metadata": {
        "id": "6UxWQNHB29Jo"
      },
      "source": [
        "####3. Create an 1D array of random numbers and produce the list of indices based on sorted ordering. "
      ]
    },
    {
      "cell_type": "code",
      "metadata": {
        "id": "FCp5Q96I29Uw"
      },
      "source": [
        ""
      ],
      "execution_count": null,
      "outputs": []
    },
    {
      "cell_type": "markdown",
      "metadata": {
        "id": "nk_gDggP29ep"
      },
      "source": [
        "#### 4. Create an array `big` with the first 64 multiples of 12.\n",
        "> **(i) Resize the array into a 3 dimensional array `tensor` of order 8 x 4 x 2**\n",
        "\n",
        "> **(ii) From `tensor` select the elements that are divisible by 3 and save them in `small_tensor`**\n",
        "\n",
        "> **(iii) Find the difference between the product of the elements of `small_tensor` and `big`**     \n",
        "\n"
      ]
    },
    {
      "cell_type": "markdown",
      "metadata": {
        "id": "P70DoeGr2-MA"
      },
      "source": [
        "#### 5. The parametric function defining a limaçon is:\n",
        "\n",
        "> $$r = r_0 + cos \\;θ$$\n",
        "> $$x = r \\; cos \\;θ$$\n",
        "> $$y = r \\; sin \\;θ$$\n",
        "\n",
        "\n",
        "#### Plot the shape of the limaçon for $r_0 = 0.5$, $r_0 = 1.0$, and $r_0 = 1.5$. \n",
        "#### Ensure that you plot enough points that the curve is closed and appears smooth.Use a legend to identify which curve is which."
      ]
    },
    {
      "cell_type": "code",
      "metadata": {
        "id": "VXOcECIO2-n4"
      },
      "source": [
        ""
      ],
      "execution_count": null,
      "outputs": []
    },
    {
      "cell_type": "markdown",
      "metadata": {
        "id": "2I8ih_yZ2-2_"
      },
      "source": [
        "#### 6. Create a random numpy integer array of dimension 5 x 10 x 20. <br/> Compute the mean of this array along each of the different axes. Sum the rows of the computed mean. Consider this result as a sequence and : <br/>  (i) Plot the 3 results in 3 different subplots stacked horizontally  <br/> (ii) Reshape the original array to an one-dimensional array and plot the values of the difference between the mean of this new array and the elements in sequential order. This subplot should be below the subplots in (i) and as wide as the first row (with all the three subplots)    \n",
        "\n"
      ]
    },
    {
      "cell_type": "code",
      "metadata": {
        "id": "lgRf4sIj2_Ze"
      },
      "source": [
        ""
      ],
      "execution_count": null,
      "outputs": []
    },
    {
      "cell_type": "markdown",
      "metadata": {
        "id": "FOwf22Gfy2U8"
      },
      "source": [
        "### REFERENCES\n",
        "\n",
        "1.   Datacamp NumPy [cheatsheet](https://s3.amazonaws.com/assets.datacamp.com/blog_assets/Numpy_Python_Cheat_Sheet.pdf)\n",
        "2.   [numpy for MATLAB users](https://docs.scipy.org/doc/numpy/user/numpy-for-matlab-users.html)\n",
        "3.  Numpy [reference](https://docs.scipy.org/doc/numpy/reference/)\n",
        "4. SciPy [tutorial](https://docs.scipy.org/doc/scipy/reference/tutorial/index.html)\n",
        "5. Matplotlib [docs](https://matplotlib.org/3.1.1/api/index.html)\n",
        "6. Matplotlib [tutorial](https://matplotlib.org/tutorials/index.html)\n",
        "\n",
        "\n"
      ]
    },
    {
      "cell_type": "code",
      "metadata": {
        "id": "VDxsHWi7V4r6"
      },
      "source": [
        ""
      ],
      "execution_count": null,
      "outputs": []
    }
  ]
}