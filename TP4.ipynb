{
  "nbformat": 4,
  "nbformat_minor": 0,
  "metadata": {
    "colab": {
      "name": "TP4.ipynb",
      "provenance": [],
      "collapsed_sections": [],
      "include_colab_link": true
    },
    "kernelspec": {
      "name": "python3",
      "display_name": "Python 3"
    }
  },
  "cells": [
    {
      "cell_type": "markdown",
      "metadata": {
        "id": "view-in-github",
        "colab_type": "text"
      },
      "source": [
        "<a href=\"https://colab.research.google.com/github/Iceoid/datascience-ml-class/blob/main/TP4.ipynb\" target=\"_parent\"><img src=\"https://colab.research.google.com/assets/colab-badge.svg\" alt=\"Open In Colab\"/></a>"
      ]
    },
    {
      "cell_type": "code",
      "metadata": {
        "id": "1uPLOfJqmtZq",
        "colab": {
          "base_uri": "https://localhost:8080/",
          "height": 35
        },
        "outputId": "d6c66f93-e19b-452b-d026-dfa5e71c8d06"
      },
      "source": [
        "%pylab inline"
      ],
      "execution_count": null,
      "outputs": [
        {
          "output_type": "stream",
          "text": [
            "Populating the interactive namespace from numpy and matplotlib\n"
          ],
          "name": "stdout"
        }
      ]
    },
    {
      "cell_type": "markdown",
      "metadata": {
        "id": "1mQD2LZ4sgqT"
      },
      "source": [
        "## Random Dataset Generation\n",
        "We will generate random, noisy dataset using a predefined function. This function is a combination of a 2nd degree polynomial with a sine function, plus some noise."
      ]
    },
    {
      "cell_type": "code",
      "metadata": {
        "id": "3_lI8SQJpC0P",
        "colab": {
          "base_uri": "https://localhost:8080/",
          "height": 265
        },
        "outputId": "51c7cdac-ee91-49fd-da05-4282d0780f7c"
      },
      "source": [
        "def synthetic_function(x, noise=0):\n",
        "    return x + (x+2)**2 + np.sin(14*x) + noise * (np.random.random(x.shape) - 0.5)\n",
        "\n",
        "def get_data_range(min=0, max=1, num=1000, noise=0):\n",
        "    X = np.linspace(min, max, num=num).reshape((num, 1))\n",
        "    return X, synthetic_function(X, noise)\n",
        "\n",
        "def get_data_random(min=0, max=1, num=12, noise=1):\n",
        "    X = np.random.random(size=(num, 1)) * (max - min) + min\n",
        "    return X, synthetic_function(X, noise)\n",
        "\n",
        "np.random.seed(12)\n",
        "X, Y = get_data_random()\n",
        "Xr, Yr = get_data_range()\n",
        "plt.scatter(X, Y)\n",
        "plt.plot(Xr, Yr)\n",
        "plt.show()"
      ],
      "execution_count": null,
      "outputs": [
        {
          "output_type": "display_data",
          "data": {
            "image/png": "[encoded data removed]",
            "text/plain": [
              "<Figure size 432x288 with 1 Axes>"
            ]
          },
          "metadata": {
            "tags": [],
            "needs_background": "light"
          }
        }
      ]
    },
    {
      "cell_type": "markdown",
      "metadata": {
        "id": "YybAyaeds-n8"
      },
      "source": [
        "## Linear Regression\n",
        "Implement the `predict` and `fit` methods for linear regression (without regularization!)"
      ]
    },
    {
      "cell_type": "code",
      "metadata": {
        "id": "da08zesZtg78"
      },
      "source": [
        "def homogeneous(X):\n",
        "    return np.insert(X, 0, 1, axis=-1)\n",
        "\n",
        "class LinearRegression:\n",
        "    def __init__(self):\n",
        "        self.W = None\n",
        "\n",
        "    # Predicts output values using X\n",
        "    def predict(self, X):\n",
        "        Xh = homogeneous(X) # Homogeneous coordinates\n",
        "        return # ----- TODO -----\n",
        "\n",
        "    # Trains the model using X and Y\n",
        "    def fit(self, X, Y):\n",
        "        Xh = homogeneous(X) # Homogeneous coordinates\n",
        "        self.W = # ----- TODO -----\n",
        "        return self"
      ],
      "execution_count": null,
      "outputs": []
    },
    {
      "cell_type": "markdown",
      "metadata": {
        "id": "HoyPkAn4tKSi"
      },
      "source": [
        "Now, we can visualize what the learned function looks like."
      ]
    },
    {
      "cell_type": "code",
      "metadata": {
        "id": "t_R41Y2UrbMU"
      },
      "source": [
        "# Create and fit a linear regression model\n",
        "lr = LinearRegression()\n",
        "lr.fit(X, Y)\n",
        "\n",
        "# Limit the plot size\n",
        "plt.xlim(np.min(Xr), np.max(Xr))\n",
        "plt.ylim(np.min(Yr) - 1, np.max(Yr) + 1)\n",
        "\n",
        "# Plot the training data with the true function.\n",
        "plt.scatter(X, Y)\n",
        "plt.plot(Xr, Yr)\n",
        "\n",
        "# Plot the predicted function\n",
        "plt.plot(Xr, lr.predict(Xr))\n",
        "\n",
        "plt.show()"
      ],
      "execution_count": null,
      "outputs": []
    },
    {
      "cell_type": "markdown",
      "metadata": {
        "id": "BiNK-sRUt6At"
      },
      "source": [
        "## Linear Regression with Regularization\n",
        "Implement the `predict` and `fit` methods for linear regression with regularization.\n",
        "\n",
        "The regularization factor is denoted as `reg` and $\\lambda$."
      ]
    },
    {
      "cell_type": "code",
      "metadata": {
        "id": "EDWyb4TmjGev"
      },
      "source": [
        "class RegularizedLinearRegression:\n",
        "    def __init__(self):\n",
        "        self.W = None\n",
        "\n",
        "    # Predicts output values using X\n",
        "    def predict(self, X):\n",
        "        Xh = homogeneous(X) # Homogeneous coordinates\n",
        "        return # ----- TODO -----\n",
        "\n",
        "    # Trains the model using X and Y\n",
        "    def fit(self, X, Y, reg=0):\n",
        "        Xh = homogeneous(X) # Homogeneous coordinates\n",
        "        I = np.identity(Xh.shape[1]) # Identity Matrix\n",
        "        I[0, 0] = 0 # Don't regularize bias\n",
        "        \n",
        "        self.W = # ----- TODO -----\n",
        "        return self"
      ],
      "execution_count": null,
      "outputs": []
    },
    {
      "cell_type": "markdown",
      "metadata": {
        "id": "QkRF13dhvUUB"
      },
      "source": [
        "We can now visualize the learned function as we increase $\\lambda$, what do you notice? Discuss."
      ]
    },
    {
      "cell_type": "code",
      "metadata": {
        "id": "fRbVO8DHhXe3"
      },
      "source": [
        "# Create a linear regression model\n",
        "lr = RegularizedLinearRegression()\n",
        "\n",
        "# Limit the plot size\n",
        "plt.xlim(np.min(Xr), np.max(Xr))\n",
        "plt.ylim(np.min(Yr) - 1, np.max(Yr) + 1)\n",
        "\n",
        "# Plot the training data with the true function.\n",
        "plt.scatter(X, Y)\n",
        "plt.plot(Xr, Yr)\n",
        "\n",
        "# Plot the predicted functions\n",
        "for reg in [0, 0.4, 1, 3, 100]:\n",
        "    lr.fit(X, Y, reg=reg)\n",
        "    plt.plot(Xr, lr.predict(Xr), label=f\"λ={reg}\")\n",
        "\n",
        "plt.legend(loc='lower right')\n",
        "plt.show()"
      ],
      "execution_count": null,
      "outputs": []
    },
    {
      "cell_type": "markdown",
      "metadata": {
        "id": "xsmzLQ2OvtSs"
      },
      "source": [
        "## Explicit Mapping and Regularization\n",
        "We will define the polynomial mapping as seen in the slides."
      ]
    },
    {
      "cell_type": "code",
      "metadata": {
        "id": "xuasPwJVhXTD",
        "colab": {
          "base_uri": "https://localhost:8080/",
          "height": 121
        },
        "outputId": "a9b6b742-5888-441c-c0a9-fd9678095d10"
      },
      "source": [
        "def polyn(X, p=2):\n",
        "    X = X.astype(np.float64)\n",
        "    return np.array([[x**(k+1) for k in range(p)] for x in X]).squeeze(axis=-1)\n",
        "\n",
        "print(\"A few examples for p=4:\")\n",
        "for i in range(5):\n",
        "    val = np.array([[i]])\n",
        "    print(val, \"->\", polyn(val, p=4))"
      ],
      "execution_count": null,
      "outputs": [
        {
          "output_type": "stream",
          "text": [
            "A few examples for p=4:\n",
            "[[0]] -> [[0. 0. 0. 0.]]\n",
            "[[1]] -> [[1. 1. 1. 1.]]\n",
            "[[2]] -> [[ 2.  4.  8. 16.]]\n",
            "[[3]] -> [[ 3.  9. 27. 81.]]\n",
            "[[4]] -> [[  4.  16.  64. 256.]]\n"
          ],
          "name": "stdout"
        }
      ]
    },
    {
      "cell_type": "markdown",
      "metadata": {
        "id": "26n09FW2w84_"
      },
      "source": [
        "We can now visualize the learned function as we increase $p$, what do you notice? What can you say about the variance? Discuss.\n",
        "\n",
        "Note: Here we show 20 learned functions in one plot, each time sampling and training on different examples."
      ]
    },
    {
      "cell_type": "code",
      "metadata": {
        "id": "lsbKyqwoz-We"
      },
      "source": [
        "lr = LinearRegression()\n",
        "\n",
        "for p in [3, 5, 7, 9]:\n",
        "\n",
        "    # Limit the plot size\n",
        "    plt.xlim(np.min(Xr), np.max(Xr))\n",
        "    plt.ylim(np.min(Yr) - 1, np.max(Yr) + 1)\n",
        "\n",
        "    for i in range(20):\n",
        "        X, Y = get_data_random()\n",
        "        lr.fit(polyn(X, p), Y)\n",
        "        plt.plot(Xr, lr.predict(polyn(Xr, p)))\n",
        "    print(\"p =\", p)\n",
        "    plt.show()\n"
      ],
      "execution_count": null,
      "outputs": []
    },
    {
      "cell_type": "markdown",
      "metadata": {
        "id": "SrpdCTwUxb7P"
      },
      "source": [
        "Let's now visualize the learned function as we increase $\\lambda$ instead, with a fixed $p=9$, what do you notice? What can you say about the variance? Discuss.\n",
        "\n",
        "Note: Here we show 20 learned functions in one plot, each time sampling and training on different examples."
      ]
    },
    {
      "cell_type": "code",
      "metadata": {
        "id": "hMTWm4clqO22"
      },
      "source": [
        "lr = RegularizedLinearRegression()\n",
        "\n",
        "for reg in [1e-100, 1e-12, 1e-5, 1e-3]:\n",
        "\n",
        "    # Limit the plot size\n",
        "    plt.xlim(np.min(Xr), np.max(Xr))\n",
        "    plt.ylim(np.min(Yr) - 1, np.max(Yr) + 1)\n",
        "\n",
        "    for i in range(20):\n",
        "        X, Y = get_data_random()\n",
        "        lr.fit(polyn(X, p=9), Y, reg=reg)\n",
        "        plt.plot(Xr, lr.predict(polyn(Xr, p=9)))\n",
        "    print(\"λ =\", reg)\n",
        "    plt.show()"
      ],
      "execution_count": null,
      "outputs": []
    },
    {
      "cell_type": "markdown",
      "metadata": {
        "id": "bh79Q99ryIg2"
      },
      "source": [
        "## Linear Classification (Logistic Regression)\n",
        "We will generate random, noisy dataset using a predefined function."
      ]
    },
    {
      "cell_type": "code",
      "metadata": {
        "id": "-x_zfxq_rABv",
        "colab": {
          "base_uri": "https://localhost:8080/",
          "height": 265
        },
        "outputId": "b8a2e42e-1bad-4257-f75f-e006b9561b2e"
      },
      "source": [
        "def synthetic_function(x):\n",
        "    return (x > 0.5).astype(np.float64)\n",
        "\n",
        "def get_data_range(min=0, max=1, num=1000, noise=0):\n",
        "    X = np.linspace(min, max, num=num).reshape((num, 1))\n",
        "    return X, synthetic_function(X)\n",
        "\n",
        "def get_data(min=0.1, max=0.9, num=50, noise=0.2):\n",
        "    X = np.random.random(size=(num, 1)) * (max - min) + min\n",
        "    X = np.append(X, np.random.random(size=(num, 1)) * 0.2 + 0.3, axis=0)\n",
        "    X = np.append(X, np.random.random(size=(num, 1)) * 0.2 + 0.8, axis=0)\n",
        "    Y = synthetic_function(X)\n",
        "    X[:num] = X[:num] + (np.random.random(size=(num, 1)) - 0.5) * noise\n",
        "    return X, Y\n",
        "\n",
        "np.random.seed(20)\n",
        "X, Y = get_data()\n",
        "Xr, Yr = get_data_range()\n",
        "plt.scatter(X, Y)\n",
        "plt.plot(Xr, Yr)\n",
        "plt.show()"
      ],
      "execution_count": null,
      "outputs": [
        {
          "output_type": "display_data",
          "data": {
            "image/png": "[encoded data removed]",
            "text/plain": [
              "<Figure size 432x288 with 1 Axes>"
            ]
          },
          "metadata": {
            "tags": [],
            "needs_background": "light"
          }
        }
      ]
    },
    {
      "cell_type": "markdown",
      "metadata": {
        "id": "WE2mUsVOyYPu"
      },
      "source": [
        "Let's try linear regression on this dataset. The orange line is the learned affine function, and the green line is the decision boundary $(y=0.5)$. What do you notice? Discuss."
      ]
    },
    {
      "cell_type": "code",
      "metadata": {
        "id": "vtzJNbGq8gM5"
      },
      "source": [
        "# Create and fit a linear regression model\n",
        "lr = LinearRegression()\n",
        "lr.fit(X, Y)\n",
        "\n",
        "# Limit the plot size\n",
        "plt.xlim(np.min(Xr), np.max(Xr))\n",
        "plt.ylim(-0.1, 1.1)\n",
        "\n",
        "# Plot the training data with the true function.\n",
        "plt.scatter(X, Y)\n",
        "plt.plot(Xr, Yr)\n",
        "\n",
        "# Plot the predicted function\n",
        "plt.plot(Xr, lr.predict(Xr))\n",
        "plt.plot(Xr, (lr.predict(Xr) > 0.5).astype(np.float))\n",
        "plt.show()"
      ],
      "execution_count": null,
      "outputs": []
    },
    {
      "cell_type": "markdown",
      "metadata": {
        "id": "plixWFj-yr8I"
      },
      "source": [
        "As linear regression is not optimal for classification tasks, implement the logistic regression method as seen in the slides.\n",
        "\n",
        "Complete methods `predict`, `grad` and `fit`."
      ]
    },
    {
      "cell_type": "code",
      "metadata": {
        "id": "5RVvlE3a834B"
      },
      "source": [
        "# Sigmoid function\n",
        "def sigmoid(x):\n",
        "  return 1 / (1 + np.exp(-x))\n",
        "\n",
        "class LogisticRegression:\n",
        "    def __init__(self):\n",
        "        self.W = None\n",
        "\n",
        "    # Predicts output values using X\n",
        "    def predict(self, X):\n",
        "        Xh = homogeneous(X) # Homogeneous coordinates\n",
        "        return # ----- TODO -----\n",
        "\n",
        "    # Returns the batch gradient for X and Y.\n",
        "    def grad(self, X, Y):\n",
        "        Xh = homogeneous(X) # Homogeneous coordinates\n",
        "        return # ----- TODO -----\n",
        "\n",
        "    # Trains the model using X and Y\n",
        "    def fit(self, X, Y, lr=1, iters=100000, rand_sigma=0.1):\n",
        "        Xh = homogeneous(X) # Homogeneous coordinates\n",
        "        # Initialize randomly the weights\n",
        "        self.W = np.random.normal(0, scale=rand_sigma, size=(Y.shape[1], Xh.shape[1]))\n",
        "\n",
        "        for i in range(iters):\n",
        "            self.W = # ----- TODO -----\n",
        "        return self"
      ],
      "execution_count": null,
      "outputs": []
    },
    {
      "cell_type": "markdown",
      "metadata": {
        "id": "T8aIpEM6z6rZ"
      },
      "source": [
        "Now let's try logistic regression. The orange curve is the learned sigmoid function.\n",
        "\n",
        "Is the predicted decision boundary (green line) closer to the true boundary (blue line)? Why? Discuss."
      ]
    },
    {
      "cell_type": "code",
      "metadata": {
        "id": "GBtetP_MATga"
      },
      "source": [
        "# Create and fit a logistic regression model\n",
        "lr = LogisticRegression()\n",
        "lr.fit(X, Y)\n",
        "\n",
        "# Limit the plot size\n",
        "plt.xlim(np.min(Xr), np.max(Xr))\n",
        "plt.ylim(-0.1, 1.1)\n",
        "\n",
        "# Plot the training data with the true function.\n",
        "plt.scatter(X, Y)\n",
        "plt.plot(Xr, Yr)\n",
        "\n",
        "# Plot the predicted function\n",
        "plt.plot(Xr, lr.predict(Xr))\n",
        "plt.plot(Xr, (lr.predict(Xr) > 0.5).astype(np.float))"
      ],
      "execution_count": null,
      "outputs": []
    },
    {
      "cell_type": "code",
      "metadata": {
        "id": "WGo5ICDoAU7l"
      },
      "source": [
        ""
      ],
      "execution_count": null,
      "outputs": []
    }
  ]
}